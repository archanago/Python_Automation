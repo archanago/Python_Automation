{
 "cells": [
  {
   "cell_type": "code",
   "execution_count": 1,
   "metadata": {},
   "outputs": [],
   "source": [
    "# OS dependencies\n",
    "import os\n",
    "\n",
    "# email dependencies\n",
    "import smtplib"
   ]
  },
  {
   "cell_type": "code",
   "execution_count": 20,
   "metadata": {},
   "outputs": [],
   "source": [
    "#function to read contacts and return list of names and email addresses\n",
    "def get_contacts(filename):\n",
    "    emails = []\n",
    "    with open(filename, mode = 'r', encoding = 'utf-8' ) as contacts_file:\n",
    "        for contact in contacts_file:\n",
    "            emails.append(contact.split()[1])\n",
    "    # return list of all emails\n",
    "    return emails\n",
    "\n",
    "#function to read template file like message.txt and return template object from its contents\n",
    "def read_message(filename):\n",
    "    with open(filename, 'r', encoding = 'utf-8') as message_file:\n",
    "        message_file = message_file.read()\n",
    "    # return message text\n",
    "    return message_file_content"
   ]
  },
  {
   "cell_type": "code",
   "execution_count": null,
   "metadata": {},
   "outputs": [],
   "source": [
    "# email connection\n",
    "SERVER = \"smtp.gmail.com\" # Replace with domain name of respective providers\n",
    "PORT = 587\n",
    "FROM = \"your_mail_id\" # Replace it with our mail ID\n",
    "# It is always safe to ask the user to input password, ather than hard-coding it inside the program\n",
    "PASSWORD = input('Please provide your Password and press Enter:')"
   ]
  },
  {
   "cell_type": "code",
   "execution_count": 21,
   "metadata": {},
   "outputs": [],
   "source": [
    "emails = get_contacts('Contacts.txt')\n",
    "message_template = read_template('Message.txt')"
   ]
  },
  {
   "cell_type": "code",
   "execution_count": 23,
   "metadata": {},
   "outputs": [],
   "source": [
    "# Establishing Connection with server\n",
    "try:\n",
    "    server = smtplib.SMTP(SERVER,PORT)\n",
    "    server.ehlo()\n",
    "    server.starttls()\n",
    "    server.ehlo()\n",
    "    server.login(FROM, PASSWORD)\n",
    "except Exception as e:\n",
    "    print(\"The following error occured:\")\n",
    "    print(e)"
   ]
  },
  {
   "cell_type": "code",
   "execution_count": 24,
   "metadata": {},
   "outputs": [
    {
     "data": {
      "text/plain": [
       "(221, b'2.0.0 Service closing transmission channel')"
      ]
     },
     "execution_count": 24,
     "metadata": {},
     "output_type": "execute_result"
    }
   ],
   "source": [
    "# For each contact, send the email:\n",
    "for email in emails:\n",
    "    # send the message via the server set up earlier.\n",
    "    server.sendmail(FROM, email, message_template)\n",
    "    \n",
    "# Aborting connection with the server once mails are sent\n",
    "server.quit()"
   ]
  },
  {
   "cell_type": "code",
   "execution_count": null,
   "metadata": {},
   "outputs": [],
   "source": []
  }
 ],
 "metadata": {
  "kernelspec": {
   "display_name": "Python 3",
   "language": "python",
   "name": "python3"
  },
  "language_info": {
   "codemirror_mode": {
    "name": "ipython",
    "version": 3
   },
   "file_extension": ".py",
   "mimetype": "text/x-python",
   "name": "python",
   "nbconvert_exporter": "python",
   "pygments_lexer": "ipython3",
   "version": "3.6.4"
  }
 },
 "nbformat": 4,
 "nbformat_minor": 2
}
